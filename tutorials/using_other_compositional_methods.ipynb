{
 "cells": [
  {
   "cell_type": "markdown",
   "metadata": {
    "collapsed": true,
    "pycharm": {
     "name": "#%% md\n"
    }
   },
   "source": [
    "# Using other compositional differentiation methods in scCODA\n",
    "\n",
    "While the scCODA package is mainly aimed at providing an implementation and interface of the scCODA model ([Büttner, Ostner et al., 2021](https://www.nature.com/articles/s41467-021-27150-6)),\n",
    "the module `sccoda.models.other_models` contains a variety of wrappers for other compositional differentiation methods\n",
    "that can be used with scCODA's data handling pipeline.\n",
    "\n",
    "The available methods are:\n",
    "\n",
    "- A fully Bayesian Dirichlet-Multinomial model without spike-and-slab priors.\n",
    "- The SCDC model ([Cao et al., 2019](https://bmcbioinformatics.biomedcentral.com/articles/10.1186/s12859-019-3211-9))\n",
    "- A (non-compositional) Poisson regression model\n",
    "- A model using the centered logratio (CLR) transform together with a generalized linear model\n",
    "- A (non-compositional) t-test\n",
    "- A CLR transform together with a t-test\n",
    "- The ALDEx2 model for compositional differentiation in microbial data ([Fernandes et al., 2014](https://microbiomejournal.biomedcentral.com/articles/10.1186/2049-2618-2-15))\n",
    "- An additive logratio (ALR) transform of the data paired with a t-test\n",
    "- An ALR transform of the data paired with a Wilcoxon rank-sum test\n",
    "- The ANCOM model for compositional differentiation in microbial data ([Mandal et al., 2015](https://www.tandfonline.com/toc/zmeh20/current))\n",
    "- The Bias-corrected ANCOM model for compositional differentiation in microbial data ([Lin, Peddada, 2020](https://www.nature.com/articles/s41467-020-17041-7)]\n",
    "- A Dirichlet regression approach ([Maier, 2014](https://epubdev.wu.ac.at/4077/))\n",
    "- Beta-Binomial modeling via corncob ([Martin e al., 2019](https://arxiv.org/abs/1902.02776))\n",
    "\n",
    "**Note: Some methods (SCDC, ALDEx2, Dirichlet Regression, ANCOMBC, Beta-Binomial) require an R environment with the according packages installed**\n",
    "\n",
    "**NOTE: If you want to run this tutorial, make sure to have [scikit-bio](https://github.com/biocore/scikit-bio) installed. It is not automatically included when installing via pip.**\n",
    "\n",
    "This tutorial aims at showcasing the use of some of these methods."
   ]
  },
  {
   "cell_type": "markdown",
   "metadata": {
    "collapsed": false,
    "pycharm": {
     "name": "#%% md\n"
    }
   },
   "source": [
    "## Setup and data handling\n",
    "\n",
    "We use the salmonella infection data from [Haber et al., 2017](https://www.nature.com/articles/nature24489)."
   ]
  },
  {
   "cell_type": "code",
   "execution_count": 1,
   "metadata": {
    "collapsed": false,
    "pycharm": {
     "name": "#%%\n"
    }
   },
   "outputs": [],
   "source": [
    "# Setup\n",
    "import warnings\n",
    "warnings.filterwarnings(\"ignore\")\n",
    "\n",
    "import pandas as pd\n",
    "import patsy as pt\n",
    "import numpy as np\n",
    "\n",
    "from sccoda.model import other_models as om\n",
    "from sccoda.util import cell_composition_data as dat\n",
    "from sccoda.util import data_visualization as viz\n",
    "\n",
    "import sccoda.datasets as scd"
   ]
  },
  {
   "cell_type": "code",
   "execution_count": 2,
   "metadata": {
    "collapsed": false,
    "pycharm": {
     "name": "#%%\n"
    }
   },
   "outputs": [
    {
     "name": "stdout",
     "output_type": "stream",
     "text": [
      "View of AnnData object with n_obs × n_vars = 6 × 8\n",
      "    obs: 'Mouse', 'Condition'\n"
     ]
    }
   ],
   "source": [
    "# Get some data (Salmonella infection from Haber et al.)\n",
    "cell_counts = scd.haber()\n",
    "\n",
    "# Convert data to anndata object\n",
    "data_all = dat.from_pandas(cell_counts, covariate_columns=[\"Mouse\"])\n",
    "\n",
    "# Extract condition from mouse name and add it as an extra column to the covariates\n",
    "data_all.obs[\"Condition\"] = data_all.obs[\"Mouse\"].str.replace(r\"_[0-9]\", \"\", regex=True)\n",
    "\n",
    "# Select control and salmonella data\n",
    "data_salm = data_all[data_all.obs[\"Condition\"].isin([\"Control\", \"Salm\"])]\n",
    "print(data_salm)"
   ]
  },
  {
   "cell_type": "code",
   "execution_count": 3,
   "metadata": {
    "collapsed": false,
    "pycharm": {
     "name": "#%%\n"
    }
   },
   "outputs": [
    {
     "data": {
      "text/plain": [
       "<AxesSubplot:xlabel='Cell type', ylabel='Proportion'>"
      ]
     },
     "execution_count": 3,
     "metadata": {},
     "output_type": "execute_result"
    },
    {
     "data": {
      "image/png": "[encoded data removed]",
      "text/plain": [
       "<Figure size 600x400 with 1 Axes>"
      ]
     },
     "metadata": {},
     "output_type": "display_data"
    }
   ],
   "source": [
    "viz.boxplots(data_salm, feature_name=\"Condition\")"
   ]
  },
  {
   "cell_type": "markdown",
   "metadata": {
    "collapsed": false,
    "pycharm": {
     "name": "#%% md\n"
    }
   },
   "source": [
    "## The ancom model\n",
    "\n",
    "Using the ancom model ([Mandal et al., 2015](https://www.tandfonline.com/toc/zmeh20/current)) with scCODA is straightforward.\n",
    "We use the implementation in [scikit-bio](http://scikit-bio.org/) and also its output format:\n",
    "\n",
    "The column \"Reject null hypothesis\" shows the columns that change significantly according to ancom"
   ]
  },
  {
   "cell_type": "code",
   "execution_count": 4,
   "metadata": {
    "collapsed": false,
    "pycharm": {
     "name": "#%%\n"
    }
   },
   "outputs": [
    {
     "name": "stderr",
     "output_type": "stream",
     "text": [
      "Trying to set attribute `.X` of view, copying.\n"
     ]
    },
    {
     "name": "stdout",
     "output_type": "stream",
     "text": [
      "(                       W  Reject null hypothesis\n",
      "Endocrine              0                   False\n",
      "Enterocyte             0                   False\n",
      "Enterocyte.Progenitor  0                   False\n",
      "Goblet                 0                   False\n",
      "Stem                   0                   False\n",
      "TA                     0                   False\n",
      "TA.Early               0                   False\n",
      "Tuft                   0                   False, Percentile              0.0     25.0    50.0    75.0    100.0  0.0     25.0   \\\n",
      "Group                 Control Control Control Control Control   Salm    Salm   \n",
      "Endocrine                 5.0   20.75    31.0   38.25    45.0   32.0   33.25   \n",
      "Enterocyte               46.0   55.75    78.5  128.75   221.0  332.0  342.25   \n",
      "Enterocyte.Progenitor    23.0  107.75   162.0  190.50   198.0  113.0  113.75   \n",
      "Goblet                   20.0   32.00    36.0   58.00   124.0   59.0   61.00   \n",
      "Stem                     50.0  110.75   185.0  241.75   250.0   90.0   96.75   \n",
      "TA                       11.0   96.50   127.5  136.25   155.0   47.0   51.50   \n",
      "TA.Early                 40.0  153.25   193.5  238.25   365.0  132.0  141.00   \n",
      "Tuft                      4.0    4.75    11.5   21.75    33.0   10.0   10.50   \n",
      "\n",
      "Percentile             50.0    75.0   100.0  \n",
      "Group                   Salm    Salm   Salm  \n",
      "Endocrine               34.5   35.75   37.0  \n",
      "Enterocyte             352.5  362.75  373.0  \n",
      "Enterocyte.Progenitor  114.5  115.25  116.0  \n",
      "Goblet                  63.0   65.00   67.0  \n",
      "Stem                   103.5  110.25  117.0  \n",
      "TA                      56.0   60.50   65.0  \n",
      "TA.Early               150.0  159.00  168.0  \n",
      "Tuft                    11.0   11.50   12.0  )\n"
     ]
    }
   ],
   "source": [
    "ancom_model = om.AncomModel(data_salm, covariate_column=\"Condition\")\n",
    "ancom_model.fit_model()\n",
    "print(ancom_model.ancom_out)"
   ]
  },
  {
   "cell_type": "markdown",
   "metadata": {
    "collapsed": false
   },
   "source": [
    "## The ALDEx2 model\n",
    "\n",
    "The ALDEx2 model ([Fernandes et al., 2014](https://microbiomejournal.biomedcentral.com/articles/10.1186/2049-2618-2-15))\n",
    "requires an R installation with the *ALDEx2* package available.\n",
    "The paths `r_home` and `r_path` must point to the installation folder and the R executable of your R version.\n",
    "\n",
    "The result columns show the p-values of various tests (see the [documentation](https://bioconductor.org/packages/release/bioc/vignettes/ALDEx2/inst/doc/ALDEx2_vignette.pdf) of ALDEx2 for details)"
   ]
  },
  {
   "cell_type": "code",
   "execution_count": 5,
   "metadata": {
    "collapsed": false,
    "pycharm": {
     "name": "#%%\n"
    }
   },
   "outputs": [],
   "source": [
    "r_home = \"/Library/Frameworks/R.framework/Resources\"\n",
    "r_path = \"/Library/Frameworks/R.framework/Resources/bin/R\""
   ]
  },
  {
   "cell_type": "code",
   "execution_count": 6,
   "metadata": {
    "collapsed": false,
    "pycharm": {
     "name": "#%%\n"
    }
   },
   "outputs": [
    {
     "name": "stderr",
     "output_type": "stream",
     "text": [
      "R[write to console]: operating in serial mode\n",
      "\n",
      "R[write to console]: computing center with all features\n",
      "\n"
     ]
    },
    {
     "name": "stdout",
     "output_type": "stream",
     "text": [
      "      we.ep    we.eBH     wi.ep    wi.eBH\n",
      "1  0.385566  0.520241  0.519792  0.670258\n",
      "2  0.055019  0.190518  0.133333  0.419444\n",
      "3  0.554758  0.649357  0.742708  0.839306\n",
      "4  0.549451  0.649280  0.890104  0.910625\n",
      "5  0.045055  0.170609  0.146875  0.427778\n",
      "6  0.211257  0.380195  0.436458  0.651677\n",
      "7  0.165477  0.311701  0.277604  0.509593\n",
      "8  0.644732  0.715048  0.594792  0.750084\n"
     ]
    }
   ],
   "source": [
    "aldex2_model = om.ALDEx2Model(data_salm, covariate_column=\"Condition\")\n",
    "aldex2_model.fit_model(r_home=r_home, r_path=r_path)\n",
    "print(aldex2_model.result)"
   ]
  },
  {
   "cell_type": "markdown",
   "metadata": {
    "collapsed": false,
    "pycharm": {
     "name": "#%% md\n"
    }
   },
   "source": [
    "## The SCDC model\n",
    "\n",
    "For using the SCDC model ([Cao et al., 2019](https://bmcbioinformatics.biomedcentral.com/articles/10.1186/s12859-019-3211-9)),\n",
    "an R environment with the package *scdney* (available on [github](https://github.com/SydneyBioX/scdney)) is required.\n",
    "\n",
    "Using the model is similar to the other ones, the \"p.values\" column shows significances:"
   ]
  },
  {
   "cell_type": "code",
   "execution_count": 7,
   "metadata": {
    "collapsed": false,
    "pycharm": {
     "name": "#%%\n"
    }
   },
   "outputs": [
    {
     "name": "stderr",
     "output_type": "stream",
     "text": [
      "R[write to console]: ── Attaching packages ────────────────────────────────────────── scdney 0.2.0 ──\n",
      "\n",
      "R[write to console]: ✔ scMerge    1.10.0     ✔ scClust    0.3.0 \n",
      "✔ scClassify 1.6.0      ✔ Cepo       1.0.0 \n",
      "✔ CiteFuse   1.6.0      ✔ scHOT      1.6.0 \n",
      "✔ scDC       0.1.0      \n",
      "\n",
      "R[write to console]: ── Attaching packages ─────────────────────────────────────── tidyverse 1.3.1 ──\n",
      "\n",
      "R[write to console]: ✔ ggplot2 3.3.5     ✔ purrr   0.3.4\n",
      "✔ tibble  3.1.6     ✔ dplyr   1.0.7\n",
      "✔ tidyr   1.1.4     ✔ stringr 1.4.0\n",
      "✔ readr   2.1.0     ✔ forcats 0.5.1\n",
      "\n",
      "R[write to console]: ── Conflicts ────────────────────────────────────────── tidyverse_conflicts() ──\n",
      "✖ stringr::boundary() masks graph::boundary()\n",
      "✖ dplyr::collapse()   masks IRanges::collapse()\n",
      "✖ dplyr::combine()    masks Biobase::combine(), BiocGenerics::combine()\n",
      "✖ dplyr::desc()       masks IRanges::desc()\n",
      "✖ tidyr::expand()     masks S4Vectors::expand()\n",
      "✖ dplyr::filter()     masks stats::filter()\n",
      "✖ dplyr::first()      masks S4Vectors::first()\n",
      "✖ dplyr::lag()        masks stats::lag()\n",
      "✖ ggplot2::Position() masks BiocGenerics::Position(), base::Position()\n",
      "✖ purrr::reduce()     masks IRanges::reduce()\n",
      "✖ dplyr::rename()     masks S4Vectors::rename()\n",
      "✖ dplyr::select()     masks AnnotationDbi::select(), MASS::select()\n",
      "✖ dplyr::slice()      masks IRanges::slice()\n",
      "\n"
     ]
    },
    {
     "name": "stdout",
     "output_type": "stream",
     "text": [
      "[1] \"Calculating sample proportion...\"\n",
      "[1] \"Calculating bootstrap proportion...\"\n",
      "[1] \"Calculating BCa ...\"\n",
      "[1] \"Calculating z0 ...\"\n",
      "[1] \"Calculating acc ...\"\n",
      "[1] \"fitting GLM... 10\"\n",
      "[1] \"fitting GLM... 20\"\n",
      "[1] \"fitting GLM... 30\"\n",
      "[1] \"fitting GLM... 40\"\n",
      "[1] \"fitting GLM... 50\"\n",
      "[1] \"fitting GLM... 60\"\n",
      "[1] \"fitting GLM... 70\"\n",
      "[1] \"fitting GLM... 80\"\n",
      "[1] \"fitting GLM... 90\"\n",
      "[1] \"fitting GLM... 100\"\n",
      "                                              term  estimate  std.error  \\\n",
      "0                                      (Intercept)  3.340425   0.130826   \n",
      "1                         cellTypescell_Enterocyte  1.318058   0.151683   \n",
      "2              cellTypescell_Enterocyte.Progenitor  1.573899   0.145437   \n",
      "3                             cellTypescell_Goblet  0.643168   0.167195   \n",
      "4                               cellTypescell_Stem  1.779897   0.138821   \n",
      "5                                 cellTypescell_TA  1.324436   0.145850   \n",
      "6                           cellTypescell_TA.Early  1.944167   0.143707   \n",
      "7                               cellTypescell_Tuft -0.654497   0.225239   \n",
      "8                                       condCond_1  0.178457   0.216167   \n",
      "9              cellTypescell_Enterocyte:condCond_1  1.026114   0.234573   \n",
      "10  cellTypescell_Enterocyte.Progenitor:condCond_1 -0.346556   0.250467   \n",
      "11                 cellTypescell_Goblet:condCond_1 -0.033054   0.262500   \n",
      "12                   cellTypescell_Stem:condCond_1 -0.659463   0.239814   \n",
      "13                     cellTypescell_TA:condCond_1 -0.808348   0.257086   \n",
      "14               cellTypescell_TA.Early:condCond_1 -0.450709   0.241865   \n",
      "15                   cellTypescell_Tuft:condCond_1 -0.527277   0.429530   \n",
      "\n",
      "    statistic         df       p.value  \n",
      "0   25.533339  22.224333  0.000000e+00  \n",
      "1    8.689552  20.875604  2.240259e-08  \n",
      "2   10.821880  21.667775  3.348521e-10  \n",
      "3    3.846807  20.668018  9.586014e-04  \n",
      "4   12.821524  23.109362  5.442757e-12  \n",
      "5    9.080787  22.648182  5.234775e-09  \n",
      "6   13.528677  20.981438  7.842393e-12  \n",
      "7   -2.905783  21.966284  8.204102e-03  \n",
      "8    0.825554  21.753691  4.180192e-01  \n",
      "9    4.374399  21.402135  2.554530e-04  \n",
      "10  -1.383638  20.350230  1.814600e-01  \n",
      "11  -0.125920  22.708496  9.009037e-01  \n",
      "12  -2.749898  22.420741  1.156695e-02  \n",
      "13  -3.144273  22.698956  4.592254e-03  \n",
      "14  -1.863476  20.683645  7.665614e-02  \n",
      "15  -1.227567  20.908642  2.332512e-01  \n"
     ]
    }
   ],
   "source": [
    "scdc_model = om.scdney_model(data_salm, covariate_column=\"Condition\")\n",
    "result, _ = scdc_model.analyze(r_home=r_home, r_path=r_path)\n",
    "print(result)"
   ]
  },
  {
   "cell_type": "markdown",
   "metadata": {
    "collapsed": false,
    "pycharm": {
     "name": "#%% md\n"
    }
   },
   "source": [
    "## The simple Dirichlet-Multinomial model\n",
    "\n",
    "Using the simple Dirichlet model is similar to using the scCODA model. Only HMC sampling is available for inference.\n",
    "\n",
    "Significantly changing are all cell types where 0 is not included in the high density interval (HDI)"
   ]
  },
  {
   "cell_type": "code",
   "execution_count": 10,
   "metadata": {
    "collapsed": false,
    "pycharm": {
     "name": "#%%\n"
    }
   },
   "outputs": [
    {
     "name": "stderr",
     "output_type": "stream",
     "text": [
      "2021-11-28 19:36:25.016681: W tensorflow/core/grappler/costs/op_level_cost_estimator.cc:689] Error in PredictCost() for the op: op: \"Softmax\" attr { key: \"T\" value { type: DT_DOUBLE } } inputs { dtype: DT_DOUBLE shape { unknown_rank: true } } device { type: \"CPU\" vendor: \"GenuineIntel\" model: \"110\" frequency: 2000 num_cores: 8 environment { key: \"cpu_instruction_set\" value: \"AVX SSE, SSE2, SSE3, SSSE3, SSE4.1, SSE4.2\" } environment { key: \"eigen\" value: \"3.4.99\" } l1_cache_size: 49152 l2_cache_size: 524288 l3_cache_size: 6291456 memory_size: 268435456 } outputs { dtype: DT_DOUBLE shape { unknown_rank: true } }\n",
      "2021-11-28 19:36:25.038579: W tensorflow/core/grappler/costs/op_level_cost_estimator.cc:689] Error in PredictCost() for the op: op: \"Softmax\" attr { key: \"T\" value { type: DT_DOUBLE } } inputs { dtype: DT_DOUBLE shape { unknown_rank: true } } device { type: \"CPU\" vendor: \"GenuineIntel\" model: \"110\" frequency: 2000 num_cores: 8 environment { key: \"cpu_instruction_set\" value: \"AVX SSE, SSE2, SSE3, SSSE3, SSE4.1, SSE4.2\" } environment { key: \"eigen\" value: \"3.4.99\" } l1_cache_size: 49152 l2_cache_size: 524288 l3_cache_size: 6291456 memory_size: 268435456 } outputs { dtype: DT_DOUBLE shape { unknown_rank: true } }\n"
     ]
    },
    {
     "name": "stdout",
     "output_type": "stream",
     "text": [
      "MCMC sampling finished. (283.799 sec)\n",
      "Acceptance rate: 69.1%\n",
      "Compositional Analysis summary (extended):\n",
      "\n",
      "Data: 6 samples, 8 cell types\n",
      "Reference index: 4\n",
      "Formula: Condition\n",
      "\n",
      "MCMC Sampling: Sampled 20000 chain states (5000 burnin samples) in 283.799 sec. Acceptance rate: 69.1%\n",
      "\n",
      "Intercepts:\n",
      "                       Final Parameter  HDI 3%  HDI 97%     SD  \\\n",
      "Cell Type                                                        \n",
      "Endocrine                        1.043   0.307    1.726  0.387   \n",
      "Enterocyte                       2.320   1.723    2.930  0.323   \n",
      "Enterocyte.Progenitor            2.483   1.834    3.075  0.334   \n",
      "Goblet                           1.616   0.924    2.227  0.351   \n",
      "Stem                             2.746   2.179    3.371  0.317   \n",
      "TA                               2.161   1.467    2.807  0.355   \n",
      "TA.Early                         2.849   2.233    3.440  0.324   \n",
      "Tuft                             0.410  -0.382    1.213  0.431   \n",
      "\n",
      "                       Expected Sample  \n",
      "Cell Type                               \n",
      "Endocrine                    32.431823  \n",
      "Enterocyte                  116.296171  \n",
      "Enterocyte.Progenitor       136.884860  \n",
      "Goblet                       57.520427  \n",
      "Stem                        178.063484  \n",
      "TA                           99.200211  \n",
      "TA.Early                    197.381842  \n",
      "Tuft                         17.221182  \n",
      "\n",
      "\n",
      "Effects:\n",
      "                                         Final Parameter  HDI 3%  HDI 97%  \\\n",
      "Covariate         Cell Type                                                 \n",
      "Condition[T.Salm] Endocrine                     0.529575  -0.323    1.414   \n",
      "                  Enterocyte                    1.608336   1.096    2.167   \n",
      "                  Enterocyte.Progenitor         0.329774  -0.243    0.936   \n",
      "                  Goblet                        0.575193  -0.140    1.276   \n",
      "                  Stem                               NaN   0.000    0.000   \n",
      "                  TA                           -0.056400  -0.733    0.606   \n",
      "                  TA.Early                      0.230121  -0.316    0.751   \n",
      "                  Tuft                          0.133425  -0.972    1.171   \n",
      "\n",
      "                                            SD  Inclusion probability  \\\n",
      "Covariate         Cell Type                                             \n",
      "Condition[T.Salm] Endocrine              0.463               0.999200   \n",
      "                  Enterocyte             0.283               1.000000   \n",
      "                  Enterocyte.Progenitor  0.311               0.998333   \n",
      "                  Goblet                 0.380               0.999333   \n",
      "                  Stem                   0.000               0.000000   \n",
      "                  TA                     0.356               0.998467   \n",
      "                  TA.Early               0.285               0.998200   \n",
      "                  Tuft                   0.569               0.998800   \n",
      "\n",
      "                                         Expected Sample  log2-fold change  \n",
      "Covariate         Cell Type                                                 \n",
      "Condition[T.Salm] Endocrine                    35.638644          0.136032  \n",
      "                  Enterocyte                  375.850562          1.692356  \n",
      "                  Enterocyte.Progenitor       123.177940         -0.152219  \n",
      "                  Goblet                       66.158172          0.201845  \n",
      "                  Stem                               NaN               NaN  \n",
      "                  TA                           60.670369         -0.709351  \n",
      "                  TA.Early                    160.770249         -0.295989  \n",
      "                  Tuft                         12.734065         -0.435491  \n"
     ]
    }
   ],
   "source": [
    "K = data_salm.X.shape[1]\n",
    "formula = \"Condition\"\n",
    "\n",
    "cell_types = data_salm.var.index.to_list()\n",
    "\n",
    "# Get count data\n",
    "data_matrix = data_salm.X.astype(\"float32\")\n",
    "\n",
    "# Build covariate matrix from R-like formula\n",
    "covariate_matrix = pt.dmatrix(formula, data_salm.obs)\n",
    "covariate_names = covariate_matrix.design_info.column_names[1:]\n",
    "covariate_matrix = covariate_matrix[:, 1:]\n",
    "\n",
    "# Init model. Baseline index is always the last cell type\n",
    "mod = om.SimpleModel(covariate_matrix=np.array(covariate_matrix), data_matrix=data_matrix,\n",
    "                     cell_types=cell_types, covariate_names=covariate_names, formula=formula,\n",
    "                     reference_cell_type=4)\n",
    "\n",
    "# Run HMC sampling\n",
    "result_simple = mod.sample_hmc()\n",
    "\n",
    "result_simple.summary_extended()"
   ]
  },
  {
   "cell_type": "markdown",
   "metadata": {
    "collapsed": false,
    "pycharm": {
     "name": "#%% md\n"
    }
   },
   "source": [
    "## Frequentist tests\n",
    "\n",
    "Frequentist tests can all be used with the same scheme. Here, we use the ALR-transformed t-test as an example.\n",
    "The p.val attribute always contains the p-values of the test for all cell types (except the reference type if using ALR transforms)."
   ]
  },
  {
   "cell_type": "code",
   "execution_count": 9,
   "metadata": {
    "collapsed": false,
    "pycharm": {
     "name": "#%%\n"
    }
   },
   "outputs": [
    {
     "name": "stdout",
     "output_type": "stream",
     "text": [
      "[0.061904043349529855, 0.016550016833625263, 0.01594225849767037, 0.4157960379583721, 1, 0.2886155729884671, 0.11388003371717678, 0.4785462482431266]\n"
     ]
    }
   ],
   "source": [
    "alr_t_model = om.ALRModel_ttest(data_salm, covariate_column=\"Condition\")\n",
    "alr_t_model.fit_model(reference_cell_type=4)\n",
    "print(alr_t_model.p_val)\n",
    "\n"
   ]
  }
 ],
 "metadata": {
  "kernelspec": {
   "display_name": "Python 3.7",
   "language": "python",
   "name": "python3"
  },
  "language_info": {
   "codemirror_mode": {
    "name": "ipython",
    "version": 2
   },
   "file_extension": ".py",
   "mimetype": "text/x-python",
   "name": "python",
   "nbconvert_exporter": "python",
   "pygments_lexer": "ipython2",
   "version": "2.7.6"
  }
 },
 "nbformat": 4,
 "nbformat_minor": 0
}